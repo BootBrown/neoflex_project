{
 "cells": [
  {
   "cell_type": "code",
   "execution_count": null,
   "id": "bc61b142-2fba-476a-b5fc-4576368d667e",
   "metadata": {},
   "outputs": [],
   "source": [
    "import findspark\n",
    "findspark.init()"
   ]
  },
  {
   "cell_type": "code",
   "execution_count": null,
   "id": "180caa86-6611-4036-aee2-99cc28cb70aa",
   "metadata": {},
   "outputs": [],
   "source": [
    "import pyspark\n",
    "from pyspark.sql import SparkSession\n",
    "import pyspark.sql.functions as F"
   ]
  },
  {
   "cell_type": "code",
   "execution_count": null,
   "id": "2bbcbac5-fc8d-4ac1-9399-a28ab11751a4",
   "metadata": {},
   "outputs": [],
   "source": [
    "spark = SparkSession.builder\\\n",
    "    .appName('safinmr_project_task2')\\\n",
    "    .config(\"mapreduce.fileoutputcommitter.algorithm.version\",\"2\")\\\n",
    "    .master(\"local[*]\")\\\n",
    "    .getOrCreate()"
   ]
  },
  {
   "cell_type": "markdown",
   "id": "f426c895-8c0a-49e5-8422-bf3b6c17d7d3",
   "metadata": {},
   "source": [
    "Сгенерировать DataFrame из трёх колонок (row_id, discipline, season) - олимпийские дисциплины по сезонам.\n",
    "row_id - число порядкового номера строки;\n",
    "discipline - наименование олимпиский дисциплины на английском (полностью маленькими буквами);\n",
    "season - сезон дисциплины (summer / winter);\n",
    "Укажите не мнее чем по 5 дисциплин для каждого сезона.\n",
    "Сохраните DataFrame в csv-файл, разделитель колонок табуляция, первая строка должна содержать название колонок.\n",
    "Данные должны быть сохранены в виде 1 csv-файла а не множества маленьких.\n"
   ]
  },
  {
   "cell_type": "code",
   "execution_count": null,
   "id": "f7787e28-81db-4150-9cbf-f6ea57b263df",
   "metadata": {},
   "outputs": [],
   "source": [
    "sports_df = spark.createDataFrame(\n",
    "    [\n",
    "        (1, 'Handball', 'summer'),\n",
    "        (2, 'Football', 'summer'),\n",
    "        (3, 'Swimming', 'summer'),\n",
    "        (4, 'Voleyball', 'summer'),\n",
    "        (5, 'Basketball', 'summer'),\n",
    "        (6, 'Hockey', 'winter'),\n",
    "        (7, 'Figure skating', 'winter'),\n",
    "        (8, 'Skeleton', 'winter'),\n",
    "        (9, 'Bobsled', 'winter'),\n",
    "        (10, 'Snowboarding', 'winter'),\n",
    "    ],\n",
    "    schema='row_id int, discipline string, season string'\n",
    ")"
   ]
  },
  {
   "cell_type": "code",
   "execution_count": null,
   "id": "4964c678-6e07-4944-a90e-d48df2d672dc",
   "metadata": {},
   "outputs": [],
   "source": [
    "sports_df.show()"
   ]
  },
  {
   "cell_type": "code",
   "execution_count": null,
   "id": "d719428a-852f-4587-bcf3-87b482cce1a2",
   "metadata": {},
   "outputs": [],
   "source": [
    "sports_df.rdd.getNumPartitions()"
   ]
  },
  {
   "cell_type": "code",
   "execution_count": null,
   "id": "4a768fa5-5a46-4730-8e85-b0f6d781b213",
   "metadata": {},
   "outputs": [],
   "source": [
    "sports_df = sports_df.coalesce(1)"
   ]
  },
  {
   "cell_type": "code",
   "execution_count": null,
   "id": "bcf1abf9-4325-4b08-873d-6a937060ea03",
   "metadata": {},
   "outputs": [],
   "source": [
    "sports_df.rdd.getNumPartitions()"
   ]
  },
  {
   "cell_type": "code",
   "execution_count": null,
   "id": "7049472a-e8de-4c46-bd9a-8531ddb26ae2",
   "metadata": {},
   "outputs": [],
   "source": [
    "sports_df.write\\\n",
    "    .format(\"csv\")\\\n",
    "    .option(\"delimiter\", \"\\t\")\\\n",
    "    .option(\"header\", \"true\")\\\n",
    "    .mode(\"overwrite\")\\\n",
    "    .save(\"file:///media/sf_edu/neoflex/project/files/output/sports.csv\")"
   ]
  },
  {
   "cell_type": "markdown",
   "id": "787c091b-e974-448a-a749-c54077403b3f",
   "metadata": {},
   "source": [
    "Прочитайте исходный файл \"Athletes.csv\".\n",
    "Посчитайте в разрезе дисциплин сколько всего спортсменов в каждой из дисциплин принимало участие.\n",
    "Результат сохраните в формате parquet."
   ]
  },
  {
   "cell_type": "code",
   "execution_count": null,
   "id": "64ddeac1-bcb8-4b3b-84c4-3a1365767bcf",
   "metadata": {},
   "outputs": [],
   "source": [
    "athletes_df = spark.read\\\n",
    "    .format(\"csv\")\\\n",
    "    .option(\"header\", \"true\")\\\n",
    "    .option(\"inferSchema\", \"true\")\\\n",
    "    .option(\"delimiter\", \";\")\\\n",
    "    .load(\"file:///media/sf_edu/neoflex/project/files/Athletes.csv\")"
   ]
  },
  {
   "cell_type": "code",
   "execution_count": null,
   "id": "f6f18e4e-5913-4a4c-b179-600443fb5bd2",
   "metadata": {},
   "outputs": [],
   "source": [
    "athletes_df.show()"
   ]
  },
  {
   "cell_type": "code",
   "execution_count": null,
   "id": "275fb9d1-ef5a-4e63-a9fe-fd199f49b4f0",
   "metadata": {},
   "outputs": [],
   "source": [
    "sportsmen_count_df = athletes_df.groupby(F.col(\"Discipline\")).count()\n",
    "sportsmen_count_df.show()"
   ]
  },
  {
   "cell_type": "code",
   "execution_count": null,
   "id": "e305394e-0e85-491a-8b45-1a802d0f0ce2",
   "metadata": {},
   "outputs": [],
   "source": [
    "sportsmen_count_df.write\\\n",
    "    .format(\"parquet\")\\\n",
    "    .mode(\"overwrite\")\\\n",
    "    .save(\"file:///media/sf_edu/neoflex/project/files/output/sportsmen_count.parquet\")"
   ]
  },
  {
   "cell_type": "markdown",
   "id": "00e0924e-32c2-40db-8433-c854da64da75",
   "metadata": {},
   "source": [
    "Прочитайте исходный файл \"Athletes.csv\".\n",
    "Посчитайте в разрезе дисциплин сколько всего спортсменов в каждой из дисциплин принимало участие.\n",
    "Получившийся результат нужно объединить с сгенерированным вами DataFrame из 1-го задания и в итоге вывести количество участников, только по тем дисциплинам, что есть в вашем сгенерированном DataFrame.\n",
    "Результат сохраните в формате parquet.\n"
   ]
  },
  {
   "cell_type": "code",
   "execution_count": null,
   "id": "39fe47a0-8ab4-4a3c-8103-92dc09026977",
   "metadata": {},
   "outputs": [],
   "source": [
    "selected_sportsmen_count_df = sports_df.join(\n",
    "    sportsmen_count_df,\n",
    "    \"discipline\",\n",
    "    \"inner\"\n",
    ").select(\n",
    "    F.col(\"discipline\"),\n",
    "    F.col(\"count\")\n",
    ")"
   ]
  },
  {
   "cell_type": "code",
   "execution_count": null,
   "id": "e7084b74-7096-431b-9251-fea870aeb626",
   "metadata": {},
   "outputs": [],
   "source": [
    "selected_sportsmen_count_df.show()"
   ]
  },
  {
   "cell_type": "code",
   "execution_count": null,
   "id": "36b7b9cf-5f4c-4185-b122-6952aecdb35e",
   "metadata": {},
   "outputs": [],
   "source": [
    "selected_sportsmen_count_df.write\\\n",
    "    .format(\"parquet\")\\\n",
    "    .mode(\"overwrite\")\\\n",
    "    .save(\"file:///media/sf_edu/neoflex/project/files/output/selected_sportsmen_count.parquet\")"
   ]
  },
  {
   "cell_type": "code",
   "execution_count": null,
   "id": "340d7c91-3f7c-4670-9120-06c65122d8ea",
   "metadata": {},
   "outputs": [],
   "source": [
    "spark.stop()"
   ]
  },
  {
   "cell_type": "code",
   "execution_count": null,
   "id": "42cb1a5c-f391-4898-b735-bd00b793a7d3",
   "metadata": {},
   "outputs": [],
   "source": []
  }
 ],
 "metadata": {
  "kernelspec": {
   "display_name": "Python 3 (ipykernel)",
   "language": "python",
   "name": "python3"
  },
  "language_info": {
   "codemirror_mode": {
    "name": "ipython",
    "version": 3
   },
   "file_extension": ".py",
   "mimetype": "text/x-python",
   "name": "python",
   "nbconvert_exporter": "python",
   "pygments_lexer": "ipython3",
   "version": "3.8.10"
  }
 },
 "nbformat": 4,
 "nbformat_minor": 5
}
